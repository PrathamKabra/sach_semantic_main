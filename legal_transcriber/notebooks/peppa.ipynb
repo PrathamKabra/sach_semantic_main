{
 "cells": [
  {
   "cell_type": "code",
   "execution_count": null,
   "id": "ad6137ea",
   "metadata": {},
   "outputs": [],
   "source": [
    "# Hello Peppa"
   ]
  }
 ],
 "metadata": {
  "language_info": {
   "name": "python"
  }
 },
 "nbformat": 4,
 "nbformat_minor": 5
}
